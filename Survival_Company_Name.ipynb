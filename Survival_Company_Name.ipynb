{
 "cells": [
  {
   "cell_type": "markdown",
   "metadata": {},
   "source": [
    "## Survival Analysis \"Company Names\""
   ]
  },
  {
   "cell_type": "markdown",
   "metadata": {},
   "source": [
    "### Libraries"
   ]
  },
  {
   "cell_type": "code",
   "execution_count": null,
   "metadata": {},
   "outputs": [],
   "source": [
    "import pandas as pd\n",
    "import numpy as np\n",
    "\n",
    "from lifelines import *\n",
    "from lifelines.statistics import logrank_test, multivariate_logrank_test\n",
    "from lifelines.utils import to_episodic_format, restricted_mean_survival_time\n",
    "from lifelines.plotting import rmst_plot\n",
    "from statsmodels.stats.outliers_influence import variance_inflation_factor\n",
    "\n",
    "import matplotlib.pyplot as plt\n",
    "plt.rcParams['figure.figsize'] = [10, 6]\n",
    "plt.rcParams['figure.dpi'] = 100"
   ]
  },
  {
   "cell_type": "markdown",
   "metadata": {},
   "source": [
    "### Data Import"
   ]
  },
  {
   "cell_type": "code",
   "execution_count": null,
   "metadata": {},
   "outputs": [],
   "source": [
    "data = pd.read_excel(r\"data.xlsx\")\n",
    "D, E = data['Duration'], data['Event']"
   ]
  },
  {
   "cell_type": "markdown",
   "metadata": {},
   "source": [
    "### Kaplan-Meier-Curves"
   ]
  },
  {
   "cell_type": "code",
   "execution_count": null,
   "metadata": {},
   "outputs": [],
   "source": [
    "kmf = KaplanMeierFitter()\n",
    "kmf.fit(D, E)"
   ]
  },
  {
   "cell_type": "code",
   "execution_count": null,
   "metadata": {},
   "outputs": [],
   "source": [
    "fig, ax =  plt.subplots()\n",
    "kmf.plot_survival_function(color='C0',ax=ax, at_risk_counts=True)\n",
    "ax.set(\n",
    "    title='Kaplan-Meier survival curve',\n",
    "    xlabel='Years',\n",
    "    ylabel='Estimated Probability of Survival')"
   ]
  },
  {
   "cell_type": "code",
   "execution_count": null,
   "metadata": {},
   "outputs": [],
   "source": [
    "kmf.median_survival_time_"
   ]
  },
  {
   "cell_type": "code",
   "execution_count": null,
   "metadata": {},
   "outputs": [],
   "source": [
    "fig, ax = plt.subplots()\n",
    "L = ['Without Semantic Endowment', 'With Semantic Endowment']\n",
    "for r in data['Semantic_Endowment'].unique():\n",
    "    ix = data[data['Semantic_Endowment'] == r]\n",
    "    kmf.fit(ix['Duration'], ix['Event'], label = L[r])\n",
    "    kmf.plot(ax=ax)\n",
    "\n",
    "ax.set(\n",
    "    title='Kaplan-Meier Survival Curves Semantic Endowment',\n",
    "    xlabel='Operational / Years',\n",
    "    ylabel='Estimated Probability of Survival'\n",
    ")\n",
    "\n",
    "# likewise: other variables"
   ]
  },
  {
   "cell_type": "markdown",
   "metadata": {},
   "source": [
    "### Predictor Set"
   ]
  },
  {
   "cell_type": "code",
   "execution_count": null,
   "metadata": {},
   "outputs": [],
   "source": [
    "formula = \"Fluency + Semantic_Endowment + Symbolic_Endowment + Legal_Form + \\\n",
    "           Rubrication + Complexity + Legal_Form*Semantic_Endowment\" # last term = interaction"
   ]
  },
  {
   "cell_type": "markdown",
   "metadata": {},
   "source": [
    "### Multicollinearity Test"
   ]
  },
  {
   "cell_type": "code",
   "execution_count": null,
   "metadata": {},
   "outputs": [],
   "source": [
    "def calc_vif(X):\n",
    "\n",
    "    vif = pd.DataFrame()\n",
    "    vif[\"variables\"] = X.columns\n",
    "    vif[\"VIF\"] = [variance_inflation_factor(X.values, i) for i in range(X.shape[1])]\n",
    "\n",
    "    return(vif)\n",
    "\n",
    "feature_vif = calc_vif(data[['Fluency', 'Rubrication', 'Semantic_Endowment', 'Complexity', \n",
    "                              'Symbolic_Endowment', 'Legal_Form']])\n",
    "feature_vif.sort_values('VIF')"
   ]
  },
  {
   "cell_type": "markdown",
   "metadata": {},
   "source": [
    "### Proportional Hazard Assumption Test"
   ]
  },
  {
   "cell_type": "code",
   "execution_count": null,
   "metadata": {},
   "outputs": [],
   "source": [
    "cph = CoxPHFitter()\n",
    "cph.fit(data, 'Duration', 'Event', formula=formula)\n",
    "cph.print_summary(decimals=3)\n",
    "cph.check_assumptions(data, show_plots=True, p_value_threshold=0.05)"
   ]
  },
  {
   "cell_type": "code",
   "execution_count": null,
   "metadata": {},
   "outputs": [],
   "source": [
    "cph.plot()"
   ]
  },
  {
   "cell_type": "markdown",
   "metadata": {},
   "source": [
    "### Logrank Test"
   ]
  },
  {
   "cell_type": "code",
   "execution_count": null,
   "metadata": {},
   "outputs": [],
   "source": [
    "results = multivariate_logrank_test(D, data['Business_Model'], E)\n",
    "results.print_summary(decimals=3, style=None)"
   ]
  },
  {
   "cell_type": "markdown",
   "metadata": {},
   "source": [
    "### Transformation to Episodic Format "
   ]
  },
  {
   "cell_type": "code",
   "execution_count": null,
   "metadata": {},
   "outputs": [],
   "source": [
    "long = to_episodic_format(data, 'Duration', 'Event', time_gaps=1) # time_gaps = intervals\n",
    "\n",
    "# long.to_excel('long.xlsx')"
   ]
  },
  {
   "cell_type": "code",
   "execution_count": null,
   "metadata": {},
   "outputs": [],
   "source": [
    "long1 = long[['start', 'stop', 'id', 'Event', 'Legal_Form', 'Rubrication', 'Semantic_Endowment', \n",
    "              'Symbolic_Endowment', 'Complexity', 'Fluency']]\n",
    "long1 = long1.astype('float')"
   ]
  },
  {
   "cell_type": "code",
   "execution_count": null,
   "metadata": {},
   "outputs": [],
   "source": [
    "long1['t_Rubrication'] = long1['Rubrication'] * long1['stop'] # Rubrication violates PH-Assumption\n",
    "long1.drop(['Rubrication'], axis=1, inplace=True)"
   ]
  },
  {
   "cell_type": "code",
   "execution_count": null,
   "metadata": {},
   "outputs": [],
   "source": [
    "formula_episodic = \"Fluency + Semantic_Endowment + Symbolic_Endowment + Legal_Form + \\\n",
    "                    t_Rubrication + Complexity + Legal_Form*Semantic_Endowment\""
   ]
  },
  {
   "cell_type": "markdown",
   "metadata": {},
   "source": [
    "### Cox Regression"
   ]
  },
  {
   "cell_type": "code",
   "execution_count": null,
   "metadata": {},
   "outputs": [],
   "source": [
    "from lifelines import CoxTimeVaryingFitter\n",
    "ctv = CoxTimeVaryingFitter()\n",
    "\n",
    "ctv.fit(long1,\n",
    "        id_col='id',\n",
    "        event_col='Event',\n",
    "        start_col='start',\n",
    "        stop_col='stop', formula = formula_episodic)"
   ]
  },
  {
   "cell_type": "code",
   "execution_count": null,
   "metadata": {},
   "outputs": [],
   "source": [
    "ctv.print_summary(3, model=\"age * time interaction\")"
   ]
  },
  {
   "cell_type": "code",
   "execution_count": null,
   "metadata": {},
   "outputs": [],
   "source": [
    "ctv.plot()"
   ]
  },
  {
   "cell_type": "markdown",
   "metadata": {},
   "source": [
    "### Factorizing"
   ]
  },
  {
   "cell_type": "code",
   "execution_count": null,
   "metadata": {},
   "outputs": [],
   "source": [
    "long2 = long[['start', 'stop', 'id', 'Event', 'Legal_Form', 'Rubrication', 'Semantic_Endowment', \n",
    "             'Symbolic_Endowment', 'Complexity', 'Fluency', 'Business_Model', 'Value_Creation']]"
   ]
  },
  {
   "cell_type": "code",
   "execution_count": null,
   "metadata": {},
   "outputs": [],
   "source": [
    "long2['t_Rubrication'] = long2['Rubrication'] * long2['stop']\n",
    "long2.drop(['Rubrication'], axis=1, inplace=True)"
   ]
  },
  {
   "cell_type": "code",
   "execution_count": null,
   "metadata": {},
   "outputs": [],
   "source": [
    "for r in long2['Business_Model'].unique():\n",
    "    print(r)\n",
    "    df = long2[long2['Business_Model'] == r]\n",
    "    df = df.astype('float')\n",
    "\n",
    "    ctv.fit(df, id_col='id', event_col='Event', start_col='start', stop_col='stop', formula=formula_episodic)\n",
    "\n",
    "    ctv.print_summary(3)"
   ]
  },
  {
   "cell_type": "code",
   "execution_count": null,
   "metadata": {},
   "outputs": [],
   "source": [
    "for r in long2['Value_Creation'].unique():\n",
    "    print(r)\n",
    "    df = long2[long2['Value_Creation'] == r]\n",
    "    df = df.astype('float')\n",
    "\n",
    "    ctv.fit(df, id_col='id', event_col='Event', start_col='start', stop_col='stop', formula=formula_episodic)\n",
    "\n",
    "    ctv.print_summary(3)"
   ]
  },
  {
   "cell_type": "markdown",
   "metadata": {},
   "source": [
    "### Median Survival Time (MST) & Restricted Median Survival Time (RMST)"
   ]
  },
  {
   "cell_type": "code",
   "execution_count": null,
   "metadata": {},
   "outputs": [],
   "source": [
    "value = [1,0]\n",
    "for val in value:\n",
    "    df = data[data['Rubrication']==val]\n",
    "    kmf.fit(df['Duration'], df['Event'])\n",
    "    print('rubrication =', val, kmf.median_survival_time_)"
   ]
  },
  {
   "cell_type": "code",
   "execution_count": null,
   "metadata": {},
   "outputs": [],
   "source": [
    "ix = data['Semantic_Endowment'] == 1\n",
    "\n",
    "time_limit = 10\n",
    "\n",
    "kmf_exp = KaplanMeierFitter().fit(D[ix], E[ix], label='explanatory names')\n",
    "rmst_exp = restricted_mean_survival_time(kmf_exp, t=time_limit)\n",
    "\n",
    "kmf_con = KaplanMeierFitter().fit(D[~ix], E[~ix], label='non-explanatory names')\n",
    "rmst_con = restricted_mean_survival_time(kmf_con, t=time_limit)"
   ]
  },
  {
   "cell_type": "code",
   "execution_count": null,
   "metadata": {},
   "outputs": [],
   "source": [
    "ax = plt.subplot()\n",
    "rmst_plot(kmf_exp, model2=kmf_con, t=time_limit, ax=ax)\n",
    "\n",
    "plt.legend(loc='upper right')\n",
    "plt.show()"
   ]
  }
 ],
 "metadata": {
  "kernelspec": {
   "display_name": "Python 3 (ipykernel)",
   "language": "python",
   "name": "python3"
  },
  "language_info": {
   "codemirror_mode": {
    "name": "ipython",
    "version": 3
   },
   "file_extension": ".py",
   "mimetype": "text/x-python",
   "name": "python",
   "nbconvert_exporter": "python",
   "pygments_lexer": "ipython3",
   "version": "3.9.7"
  }
 },
 "nbformat": 4,
 "nbformat_minor": 4
}
